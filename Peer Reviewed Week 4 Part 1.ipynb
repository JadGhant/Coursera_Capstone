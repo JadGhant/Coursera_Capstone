{
 "cells": [
  {
   "cell_type": "markdown",
   "metadata": {},
   "source": [
    "## **The Battle of Neighborhoods (Week 1)**"
   ]
  },
  {
   "cell_type": "markdown",
   "metadata": {},
   "source": [
    "### **Introduction/Business Problem (Creating an Efficient Public Transportation System in Beirut)**"
   ]
  },
  {
   "cell_type": "markdown",
   "metadata": {},
   "source": [
    "Beirut is the capital of Lebanon. It is essentially where the best services and features of the country are found to be. It contains the best universities, the best restaurants, and most of the job opportunities of Lebanon. Also, it is a very diverse city that is full of culture and touristic places. However, because Beirut is so popular because of its features, this has created a very enormous problem when it comes to traffic. \n",
    "\n",
    "The traffic is mainly caused by the high density of population. There is no reliable means of transportation other than cars and that leaves traffic to be an ultimate problem that the city is facing because of its enormous population density. So, if a reliable and affordable bus system was created in Beirut, the traffic would surely shrink as well create a positive impact on climate change by reducing Carbon Dioxide emmissions. "
   ]
  },
  {
   "cell_type": "markdown",
   "metadata": {},
   "source": [
    "### **Description of the Data**"
   ]
  },
  {
   "cell_type": "markdown",
   "metadata": {},
   "source": [
    "The data sources to be used will mainly rely on Wikipedia, Google Maps and Foursquare API to create good locations for bus stops in order to connect this bus system and make it become an efficient system with known routes. \n",
    "\n",
    "So the following sources will be used to create the data for the project:\n",
    "\n",
    "* Wikipedia will be used to determine the districts of Beirut\n",
    "* Wikipedia will be used to determine the population density of these districts \n",
    "* Google Maps for routes in the city \n",
    "* Foursquare API for location of popular destinations and places with relation to the districts\n"
   ]
  },
  {
   "cell_type": "code",
   "execution_count": null,
   "metadata": {},
   "outputs": [],
   "source": []
  }
 ],
 "metadata": {
  "kernelspec": {
   "display_name": "Python 3",
   "language": "python",
   "name": "python3"
  },
  "language_info": {
   "codemirror_mode": {
    "name": "ipython",
    "version": 3
   },
   "file_extension": ".py",
   "mimetype": "text/x-python",
   "name": "python",
   "nbconvert_exporter": "python",
   "pygments_lexer": "ipython3",
   "version": "3.6.8"
  }
 },
 "nbformat": 4,
 "nbformat_minor": 2
}
